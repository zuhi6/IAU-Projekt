{
 "cells": [
  {
   "cell_type": "markdown",
   "metadata": {},
   "source": [
    "# Prieskumná analýza\n",
    "Autori: Michal Zajic, Tibor Zalabai\n",
    "\n",
    "Cvičenie: 18:00 Štvrtok"
   ]
  },
  {
   "cell_type": "code",
   "execution_count": 31,
   "metadata": {},
   "outputs": [],
   "source": [
    "import pandas as pd\n",
    "import numpy as np\n",
    "import matplotlib.pyplot as plt\n",
    "import seaborn as sns\n",
    "import scipy.stats as stats\n",
    "import statsmodels.api as sm"
   ]
  },
  {
   "cell_type": "markdown",
   "metadata": {},
   "source": [
    "## Personal data"
   ]
  },
  {
   "cell_type": "code",
   "execution_count": 32,
   "metadata": {},
   "outputs": [
    {
     "data": {
      "text/html": [
       "<div>\n",
       "<style scoped>\n",
       "    .dataframe tbody tr th:only-of-type {\n",
       "        vertical-align: middle;\n",
       "    }\n",
       "\n",
       "    .dataframe tbody tr th {\n",
       "        vertical-align: top;\n",
       "    }\n",
       "\n",
       "    .dataframe thead th {\n",
       "        text-align: right;\n",
       "    }\n",
       "</style>\n",
       "<table border=\"1\" class=\"dataframe\">\n",
       "  <thead>\n",
       "    <tr style=\"text-align: right;\">\n",
       "      <th></th>\n",
       "      <th>name</th>\n",
       "      <th>address</th>\n",
       "      <th>age</th>\n",
       "      <th>sex</th>\n",
       "      <th>date_of_birth</th>\n",
       "    </tr>\n",
       "  </thead>\n",
       "  <tbody>\n",
       "    <tr>\n",
       "      <th>0</th>\n",
       "      <td>Edith Boudreaux</td>\n",
       "      <td>11818 Lori Crossing Apt. 802\\r\\nPughstad, DC 7...</td>\n",
       "      <td>78.0</td>\n",
       "      <td>F</td>\n",
       "      <td>1940-02-11 00:00:00</td>\n",
       "    </tr>\n",
       "    <tr>\n",
       "      <th>1</th>\n",
       "      <td>Terry Terry</td>\n",
       "      <td>PSC 4657, Box 5446\\r\\nAPO AP 58412</td>\n",
       "      <td>75.0</td>\n",
       "      <td>M</td>\n",
       "      <td>1943-04-25</td>\n",
       "    </tr>\n",
       "    <tr>\n",
       "      <th>2</th>\n",
       "      <td>Janet Washington</td>\n",
       "      <td>Unit 9759 Box 9470\\r\\nDPO AP 45549</td>\n",
       "      <td>41.0</td>\n",
       "      <td>F</td>\n",
       "      <td>1977/06/09</td>\n",
       "    </tr>\n",
       "    <tr>\n",
       "      <th>3</th>\n",
       "      <td>Margaret Chabot</td>\n",
       "      <td>137 Lewis Flat Suite 762\\r\\nWest Elizabeth, AL...</td>\n",
       "      <td>74.0</td>\n",
       "      <td>F</td>\n",
       "      <td>1944-09-20</td>\n",
       "    </tr>\n",
       "    <tr>\n",
       "      <th>4</th>\n",
       "      <td>Colleen Satterwhite</td>\n",
       "      <td>995 Frank Stravenue\\r\\nSouth Matthewport, TX 8...</td>\n",
       "      <td>37.0</td>\n",
       "      <td>F</td>\n",
       "      <td>1980-11-30</td>\n",
       "    </tr>\n",
       "  </tbody>\n",
       "</table>\n",
       "</div>"
      ],
      "text/plain": [
       "                  name                                            address  \\\n",
       "0      Edith Boudreaux  11818 Lori Crossing Apt. 802\\r\\nPughstad, DC 7...   \n",
       "1          Terry Terry                 PSC 4657, Box 5446\\r\\nAPO AP 58412   \n",
       "2     Janet Washington                 Unit 9759 Box 9470\\r\\nDPO AP 45549   \n",
       "3      Margaret Chabot  137 Lewis Flat Suite 762\\r\\nWest Elizabeth, AL...   \n",
       "4  Colleen Satterwhite  995 Frank Stravenue\\r\\nSouth Matthewport, TX 8...   \n",
       "\n",
       "    age sex        date_of_birth  \n",
       "0  78.0   F  1940-02-11 00:00:00  \n",
       "1  75.0   M           1943-04-25  \n",
       "2  41.0   F           1977/06/09  \n",
       "3  74.0   F           1944-09-20  \n",
       "4  37.0   F           1980-11-30  "
      ]
     },
     "execution_count": 32,
     "metadata": {},
     "output_type": "execute_result"
    }
   ],
   "source": [
    "personal_data = pd.read_csv('./data/personal_train.csv')\n",
    "personal_data = personal_data.drop(['Unnamed: 0'], axis=1)\n",
    "personal_data.head()"
   ]
  },
  {
   "cell_type": "markdown",
   "metadata": {},
   "source": [
    "Výpis prvých 5 údajov, z ktorých si vieme hneď predstaviť, aké dáta sú v datasete reprezentované"
   ]
  },
  {
   "cell_type": "code",
   "execution_count": 33,
   "metadata": {},
   "outputs": [
    {
     "data": {
      "text/plain": [
       "5"
      ]
     },
     "execution_count": 33,
     "metadata": {},
     "output_type": "execute_result"
    }
   ],
   "source": [
    "len(personal_data.columns)"
   ]
  },
  {
   "cell_type": "code",
   "execution_count": 34,
   "metadata": {},
   "outputs": [
    {
     "data": {
      "text/plain": [
       "name              object\n",
       "address           object\n",
       "age              float64\n",
       "sex               object\n",
       "date_of_birth     object\n",
       "dtype: object"
      ]
     },
     "execution_count": 34,
     "metadata": {},
     "output_type": "execute_result"
    }
   ],
   "source": [
    "personal_data.dtypes"
   ]
  },
  {
   "cell_type": "markdown",
   "metadata": {},
   "source": [
    "V našom personal_data je konkrétne 6 stĺpcov, ktoré sú reprezentované nasledovne: id používateľa je unikátny integer. Name reprezentuje krstné meno a priezvisko. Adresa je, ako môžeme vidieť veľmi nekonzistentná, a nie je z prvého pohľadu vidieť, o aké údaje sa jedná. Vek je reprezentovaný floatom, pohlavie je označované jedným písmenom (pokiaľ sa jedná o validnú bunku). Posledným údajom je rok narodenia, ktorý hneď z prvého pohľadu nie je konzistentný, a je vo viacerých formátoch (YYYY/MM/DD alebo YYYY-DD-MM)."
   ]
  },
  {
   "cell_type": "code",
   "execution_count": 35,
   "metadata": {},
   "outputs": [
    {
     "name": "stdout",
     "output_type": "stream",
     "text": [
      "<class 'pandas.core.frame.DataFrame'>\n",
      "RangeIndex: 2237 entries, 0 to 2236\n",
      "Data columns (total 5 columns):\n",
      "name             2237 non-null object\n",
      "address          2237 non-null object\n",
      "age              2236 non-null float64\n",
      "sex              2237 non-null object\n",
      "date_of_birth    2236 non-null object\n",
      "dtypes: float64(1), object(4)\n",
      "memory usage: 87.5+ KB\n"
     ]
    }
   ],
   "source": [
    "personal_data.info()"
   ]
  },
  {
   "cell_type": "markdown",
   "metadata": {},
   "source": [
    "Tento dataset nie je veľký, a jeho hlavnou náplňou sú osobné údaje.Všetky stĺpce obsahujú 2237 riadkov až na stĺpec age ktorý obsahuje o jeden záznam menej."
   ]
  },
  {
   "cell_type": "code",
   "execution_count": 36,
   "metadata": {},
   "outputs": [
    {
     "data": {
      "text/html": [
       "<div>\n",
       "<style scoped>\n",
       "    .dataframe tbody tr th:only-of-type {\n",
       "        vertical-align: middle;\n",
       "    }\n",
       "\n",
       "    .dataframe tbody tr th {\n",
       "        vertical-align: top;\n",
       "    }\n",
       "\n",
       "    .dataframe thead th {\n",
       "        text-align: right;\n",
       "    }\n",
       "</style>\n",
       "<table border=\"1\" class=\"dataframe\">\n",
       "  <thead>\n",
       "    <tr style=\"text-align: right;\">\n",
       "      <th></th>\n",
       "      <th>name</th>\n",
       "      <th>address</th>\n",
       "      <th>age</th>\n",
       "      <th>sex</th>\n",
       "      <th>date_of_birth</th>\n",
       "    </tr>\n",
       "  </thead>\n",
       "  <tbody>\n",
       "    <tr>\n",
       "      <th>1988</th>\n",
       "      <td>Brenda Wojciechowski</td>\n",
       "      <td>155 Johnson Circles Suite 311\\r\\nSouth Michael...</td>\n",
       "      <td>NaN</td>\n",
       "      <td>F</td>\n",
       "      <td>NaN</td>\n",
       "    </tr>\n",
       "  </tbody>\n",
       "</table>\n",
       "</div>"
      ],
      "text/plain": [
       "                      name                                            address  \\\n",
       "1988  Brenda Wojciechowski  155 Johnson Circles Suite 311\\r\\nSouth Michael...   \n",
       "\n",
       "      age sex date_of_birth  \n",
       "1988  NaN   F           NaN  "
      ]
     },
     "execution_count": 36,
     "metadata": {},
     "output_type": "execute_result"
    }
   ],
   "source": [
    "personal_data[personal_data['age'].isnull()]"
   ]
  },
  {
   "cell_type": "markdown",
   "metadata": {},
   "source": [
    "Potvrdilo sa že riadok s id 1988 nemá vyplnený age a teda ani date_of_birth tento údaj bude možné doplniť vekovým priemerom príslušného pohlavia."
   ]
  },
  {
   "cell_type": "code",
   "execution_count": 37,
   "metadata": {},
   "outputs": [
    {
     "data": {
      "text/html": [
       "<div>\n",
       "<style scoped>\n",
       "    .dataframe tbody tr th:only-of-type {\n",
       "        vertical-align: middle;\n",
       "    }\n",
       "\n",
       "    .dataframe tbody tr th {\n",
       "        vertical-align: top;\n",
       "    }\n",
       "\n",
       "    .dataframe thead th {\n",
       "        text-align: right;\n",
       "    }\n",
       "</style>\n",
       "<table border=\"1\" class=\"dataframe\">\n",
       "  <thead>\n",
       "    <tr style=\"text-align: right;\">\n",
       "      <th></th>\n",
       "      <th>age</th>\n",
       "    </tr>\n",
       "  </thead>\n",
       "  <tbody>\n",
       "    <tr>\n",
       "      <th>count</th>\n",
       "      <td>2236.000000</td>\n",
       "    </tr>\n",
       "    <tr>\n",
       "      <th>mean</th>\n",
       "      <td>51.822004</td>\n",
       "    </tr>\n",
       "    <tr>\n",
       "      <th>std</th>\n",
       "      <td>20.884439</td>\n",
       "    </tr>\n",
       "    <tr>\n",
       "      <th>min</th>\n",
       "      <td>1.000000</td>\n",
       "    </tr>\n",
       "    <tr>\n",
       "      <th>25%</th>\n",
       "      <td>36.000000</td>\n",
       "    </tr>\n",
       "    <tr>\n",
       "      <th>50%</th>\n",
       "      <td>54.000000</td>\n",
       "    </tr>\n",
       "    <tr>\n",
       "      <th>75%</th>\n",
       "      <td>67.000000</td>\n",
       "    </tr>\n",
       "    <tr>\n",
       "      <th>max</th>\n",
       "      <td>455.000000</td>\n",
       "    </tr>\n",
       "  </tbody>\n",
       "</table>\n",
       "</div>"
      ],
      "text/plain": [
       "               age\n",
       "count  2236.000000\n",
       "mean     51.822004\n",
       "std      20.884439\n",
       "min       1.000000\n",
       "25%      36.000000\n",
       "50%      54.000000\n",
       "75%      67.000000\n",
       "max     455.000000"
      ]
     },
     "execution_count": 37,
     "metadata": {},
     "output_type": "execute_result"
    }
   ],
   "source": [
    "personal_data.describe()"
   ]
  },
  {
   "cell_type": "markdown",
   "metadata": {},
   "source": [
    "Po zadaní príkazu Describe sa z vypočítateľných stĺpcov (čiže len Age). Môžeme v ňom vidieť vekový priemer, medián, horný a dolný kvartil."
   ]
  },
  {
   "cell_type": "code",
   "execution_count": 38,
   "metadata": {},
   "outputs": [
    {
     "data": {
      "text/plain": [
       "(array([0, 1, 2]), <a list of 3 Text xticklabel objects>)"
      ]
     },
     "execution_count": 38,
     "metadata": {},
     "output_type": "execute_result"
    },
    {
     "data": {
      "image/png": "[encoded data removed]",
      "text/plain": [
       "<Figure size 432x288 with 1 Axes>"
      ]
     },
     "metadata": {},
     "output_type": "display_data"
    }
   ],
   "source": [
    "fig_dims = (2, 1)\n",
    "\n",
    "plt.subplot2grid(fig_dims, (1, 0))\n",
    "personal_data['sex'].value_counts().plot(kind='bar', \n",
    "                                    title='Gender Counts')\n",
    "plt.xticks(rotation=0)"
   ]
  },
  {
   "cell_type": "markdown",
   "metadata": {},
   "source": [
    "Graf nám hovorí že sa v personal_train nachádzajú aj dáta ktoré nemajú vyplnený gender. Dáta sa budú dať upraviť buď doplnením o prevládajúce pohlavie alebo nepočítať s tymito údajmi."
   ]
  },
  {
   "cell_type": "code",
   "execution_count": 39,
   "metadata": {},
   "outputs": [
    {
     "data": {
      "text/plain": [
       "name             88\n",
       "address          88\n",
       "age              88\n",
       "sex              88\n",
       "date_of_birth    88\n",
       "dtype: int64"
      ]
     },
     "execution_count": 39,
     "metadata": {},
     "output_type": "execute_result"
    }
   ],
   "source": [
    "personal_data[(personal_data['sex'] != 'F') & (personal_data['sex'] != 'M')].count()"
   ]
  },
  {
   "cell_type": "markdown",
   "metadata": {},
   "source": [
    "Je ich presne 88 ktoré bude treba modifikovať."
   ]
  },
  {
   "cell_type": "code",
   "execution_count": 40,
   "metadata": {},
   "outputs": [
    {
     "data": {
      "image/png": "[encoded data removed]",
      "text/plain": [
       "<Figure size 432x288 with 1 Axes>"
      ]
     },
     "metadata": {},
     "output_type": "display_data"
    }
   ],
   "source": [
    "male = personal_data[personal_data['sex'] == 'M']\n",
    "male = male[~np.isnan(male['age'])]\n",
    "\n",
    "female = personal_data[personal_data['sex'] == 'F']\n",
    "female = female[~np.isnan(female['age'])]\n",
    "\n",
    "\n",
    "other = personal_data[personal_data['sex'] == '?']\n",
    "other = other[~np.isnan(other['age'])]\n",
    "\n",
    "data = [male['age'], female[female['age']< 150]['age'],other['age'], personal_data[personal_data['age']<150]['age']]\n",
    "\n",
    "fig1, ax1 = plt.subplots()\n",
    "ax1.set_title('Box plot of Males, Females and General')\n",
    "ax1.boxplot(data)\n",
    "plt.xticks([1,2,3,4], ['Male', 'Female','Other', 'Together'])\n",
    "plt.show()"
   ]
  },
  {
   "cell_type": "markdown",
   "metadata": {},
   "source": [
    "Prostredníctvom tohto Box Plou sme znázornili,  aký je je vekový priemer, horný kvartil a dolný kvartil veku mužov, žien a dohromady."
   ]
  },
  {
   "cell_type": "markdown",
   "metadata": {},
   "source": [
    "## Other data"
   ]
  },
  {
   "cell_type": "code",
   "execution_count": 41,
   "metadata": {},
   "outputs": [
    {
     "data": {
      "text/html": [
       "<div>\n",
       "<style scoped>\n",
       "    .dataframe tbody tr th:only-of-type {\n",
       "        vertical-align: middle;\n",
       "    }\n",
       "\n",
       "    .dataframe tbody tr th {\n",
       "        vertical-align: top;\n",
       "    }\n",
       "\n",
       "    .dataframe thead th {\n",
       "        text-align: right;\n",
       "    }\n",
       "</style>\n",
       "<table border=\"1\" class=\"dataframe\">\n",
       "  <thead>\n",
       "    <tr style=\"text-align: right;\">\n",
       "      <th></th>\n",
       "      <th>name</th>\n",
       "      <th>address</th>\n",
       "      <th>query hyperthyroid</th>\n",
       "      <th>FTI measured</th>\n",
       "      <th>education</th>\n",
       "      <th>lithium</th>\n",
       "      <th>TT4</th>\n",
       "      <th>T4U</th>\n",
       "      <th>capital-loss</th>\n",
       "      <th>capital-gain</th>\n",
       "      <th>...</th>\n",
       "      <th>hypopituitary</th>\n",
       "      <th>medical_info</th>\n",
       "      <th>on antithyroid medication</th>\n",
       "      <th>referral source</th>\n",
       "      <th>education-num</th>\n",
       "      <th>occupation</th>\n",
       "      <th>TBG measured</th>\n",
       "      <th>TBG</th>\n",
       "      <th>race</th>\n",
       "      <th>FTI</th>\n",
       "    </tr>\n",
       "  </thead>\n",
       "  <tbody>\n",
       "    <tr>\n",
       "      <th>0</th>\n",
       "      <td>Shondra Burns</td>\n",
       "      <td>1752 Charles Bypass Suite 311\\r\\nWest Kristinv...</td>\n",
       "      <td>f</td>\n",
       "      <td>t</td>\n",
       "      <td>Some-college</td>\n",
       "      <td>f</td>\n",
       "      <td>109.0</td>\n",
       "      <td>0.96</td>\n",
       "      <td>0.0</td>\n",
       "      <td>0.0</td>\n",
       "      <td>...</td>\n",
       "      <td>f</td>\n",
       "      <td>{'query hypothyroid':'f','T4U measured':'t','p...</td>\n",
       "      <td>f</td>\n",
       "      <td>other</td>\n",
       "      <td>10.0</td>\n",
       "      <td>Other-service</td>\n",
       "      <td>f</td>\n",
       "      <td>?</td>\n",
       "      <td>White</td>\n",
       "      <td>114</td>\n",
       "    </tr>\n",
       "    <tr>\n",
       "      <th>1</th>\n",
       "      <td>Tony Decaire</td>\n",
       "      <td>33993 Jones Keys Suite 315\\r\\nNewtonview, OK 0...</td>\n",
       "      <td>f</td>\n",
       "      <td>t</td>\n",
       "      <td>HS-grad</td>\n",
       "      <td>f</td>\n",
       "      <td>98.0</td>\n",
       "      <td>0.83</td>\n",
       "      <td>0.0</td>\n",
       "      <td>0.0</td>\n",
       "      <td>...</td>\n",
       "      <td>f</td>\n",
       "      <td>{'query hypothyroid':'f','T4U measured':'t','p...</td>\n",
       "      <td>f</td>\n",
       "      <td>other</td>\n",
       "      <td>9.0</td>\n",
       "      <td>Sales</td>\n",
       "      <td>f</td>\n",
       "      <td>?</td>\n",
       "      <td>White</td>\n",
       "      <td>119</td>\n",
       "    </tr>\n",
       "    <tr>\n",
       "      <th>2</th>\n",
       "      <td>Ruby Presson</td>\n",
       "      <td>05084 Robert Wall\\r\\nParkburgh, SC 25164</td>\n",
       "      <td>f</td>\n",
       "      <td>t</td>\n",
       "      <td>Bachelors</td>\n",
       "      <td>f</td>\n",
       "      <td>144.0</td>\n",
       "      <td>0.95</td>\n",
       "      <td>0.0</td>\n",
       "      <td>0.0</td>\n",
       "      <td>...</td>\n",
       "      <td>f</td>\n",
       "      <td>{'query hypothyroid':'f','T4U measured':'t','p...</td>\n",
       "      <td>f</td>\n",
       "      <td>SVI</td>\n",
       "      <td>NaN</td>\n",
       "      <td>Sales</td>\n",
       "      <td>f</td>\n",
       "      <td>?</td>\n",
       "      <td>White</td>\n",
       "      <td>152</td>\n",
       "    </tr>\n",
       "    <tr>\n",
       "      <th>3</th>\n",
       "      <td>Randy Stewart</td>\n",
       "      <td>Unit 7068 Box 5314\\r\\nDPO AE 22517</td>\n",
       "      <td>f</td>\n",
       "      <td>t</td>\n",
       "      <td>Some-college</td>\n",
       "      <td>f</td>\n",
       "      <td>114.0</td>\n",
       "      <td>0.90</td>\n",
       "      <td>0.0</td>\n",
       "      <td>0.0</td>\n",
       "      <td>...</td>\n",
       "      <td>f</td>\n",
       "      <td>{'query hypothyroid':'f','T4U measured':'t','p...</td>\n",
       "      <td>f</td>\n",
       "      <td>SVI</td>\n",
       "      <td>NaN</td>\n",
       "      <td>Prof-specialty</td>\n",
       "      <td>f</td>\n",
       "      <td>?</td>\n",
       "      <td>White</td>\n",
       "      <td>128</td>\n",
       "    </tr>\n",
       "    <tr>\n",
       "      <th>4</th>\n",
       "      <td>Harriet Griffin</td>\n",
       "      <td>169 Allison Landing\\r\\nBrianton, AZ 04857</td>\n",
       "      <td>f</td>\n",
       "      <td>t</td>\n",
       "      <td>Masters</td>\n",
       "      <td>f</td>\n",
       "      <td>99.0</td>\n",
       "      <td>1.04</td>\n",
       "      <td>0.0</td>\n",
       "      <td>0.0</td>\n",
       "      <td>...</td>\n",
       "      <td>f</td>\n",
       "      <td>{'query hypothyroid':'f','T4U measured':'t','p...</td>\n",
       "      <td>F</td>\n",
       "      <td>SVI</td>\n",
       "      <td>14.0</td>\n",
       "      <td>Prof-specialty</td>\n",
       "      <td>f</td>\n",
       "      <td>?</td>\n",
       "      <td>White</td>\n",
       "      <td>96</td>\n",
       "    </tr>\n",
       "  </tbody>\n",
       "</table>\n",
       "<p>5 rows × 33 columns</p>\n",
       "</div>"
      ],
      "text/plain": [
       "              name                                            address  \\\n",
       "0    Shondra Burns  1752 Charles Bypass Suite 311\\r\\nWest Kristinv...   \n",
       "1     Tony Decaire  33993 Jones Keys Suite 315\\r\\nNewtonview, OK 0...   \n",
       "2     Ruby Presson           05084 Robert Wall\\r\\nParkburgh, SC 25164   \n",
       "3    Randy Stewart                 Unit 7068 Box 5314\\r\\nDPO AE 22517   \n",
       "4  Harriet Griffin          169 Allison Landing\\r\\nBrianton, AZ 04857   \n",
       "\n",
       "  query hyperthyroid FTI measured      education lithium    TT4   T4U  \\\n",
       "0                  f            t   Some-college       f  109.0  0.96   \n",
       "1                  f            t        HS-grad       f   98.0  0.83   \n",
       "2                  f            t      Bachelors       f  144.0  0.95   \n",
       "3                  f            t   Some-college       f  114.0  0.90   \n",
       "4                  f            t        Masters       f   99.0  1.04   \n",
       "\n",
       "   capital-loss  capital-gain ...  hypopituitary  \\\n",
       "0           0.0           0.0 ...              f   \n",
       "1           0.0           0.0 ...              f   \n",
       "2           0.0           0.0 ...              f   \n",
       "3           0.0           0.0 ...              f   \n",
       "4           0.0           0.0 ...              f   \n",
       "\n",
       "                                        medical_info  \\\n",
       "0  {'query hypothyroid':'f','T4U measured':'t','p...   \n",
       "1  {'query hypothyroid':'f','T4U measured':'t','p...   \n",
       "2  {'query hypothyroid':'f','T4U measured':'t','p...   \n",
       "3  {'query hypothyroid':'f','T4U measured':'t','p...   \n",
       "4  {'query hypothyroid':'f','T4U measured':'t','p...   \n",
       "\n",
       "   on antithyroid medication  referral source  education-num       occupation  \\\n",
       "0                          f            other           10.0    Other-service   \n",
       "1                          f            other            9.0            Sales   \n",
       "2                          f              SVI            NaN            Sales   \n",
       "3                          f              SVI            NaN   Prof-specialty   \n",
       "4                          F              SVI           14.0   Prof-specialty   \n",
       "\n",
       "  TBG measured TBG    race  FTI  \n",
       "0            f   ?   White  114  \n",
       "1            f   ?   White  119  \n",
       "2            f   ?   White  152  \n",
       "3            f   ?   White  128  \n",
       "4            f   ?   White   96  \n",
       "\n",
       "[5 rows x 33 columns]"
      ]
     },
     "execution_count": 41,
     "metadata": {},
     "output_type": "execute_result"
    }
   ],
   "source": [
    "#OTHER CSSV\n",
    "other_data = pd.read_csv('./data/other_train.csv')\n",
    "other_data = other_data.drop(['Unnamed: 0'],axis=1)\n",
    "other_data.head()"
   ]
  },
  {
   "cell_type": "markdown",
   "metadata": {},
   "source": [
    "Ďalším datasetom sú záznamy o ľuďoch, v ktorých sú napísané okrem mena, adresy, rasy, typu vzdelania, krajiny, rodinnému statusu, práci aj údaje z vyšetrení (ako napríklad, či je chorý, či má nádor, či mu boli poskytnuté rôzne vyšetrenia..)"
   ]
  },
  {
   "cell_type": "code",
   "execution_count": 42,
   "metadata": {},
   "outputs": [
    {
     "data": {
      "text/plain": [
       "name                          object\n",
       "address                       object\n",
       "query hyperthyroid            object\n",
       "FTI measured                  object\n",
       "education                     object\n",
       "lithium                       object\n",
       "TT4                          float64\n",
       "T4U                          float64\n",
       "capital-loss                 float64\n",
       "capital-gain                 float64\n",
       "tumor                         object\n",
       "TSH                          float64\n",
       "T3                           float64\n",
       "fnlwgt                       float64\n",
       "hours-per-week               float64\n",
       "relationship                  object\n",
       "sick                          object\n",
       "workclass                     object\n",
       "TT4 measured                  object\n",
       "class                         object\n",
       "marital-status                object\n",
       "goitre                        object\n",
       "native-country                object\n",
       "hypopituitary                 object\n",
       "medical_info                  object\n",
       "on antithyroid medication     object\n",
       "referral source               object\n",
       "education-num                float64\n",
       "occupation                    object\n",
       "TBG measured                  object\n",
       "TBG                           object\n",
       "race                          object\n",
       "FTI                           object\n",
       "dtype: object"
      ]
     },
     "execution_count": 42,
     "metadata": {},
     "output_type": "execute_result"
    }
   ],
   "source": [
    "other_data.dtypes"
   ]
  },
  {
   "cell_type": "markdown",
   "metadata": {},
   "source": [
    "V našom datasete je najviac stĺpcov typu object, druhým najpočetnejším je float, a tretím typom je id."
   ]
  },
  {
   "cell_type": "code",
   "execution_count": 43,
   "metadata": {},
   "outputs": [
    {
     "data": {
      "text/plain": [
       "33"
      ]
     },
     "execution_count": 43,
     "metadata": {},
     "output_type": "execute_result"
    }
   ],
   "source": [
    "len(other_data.columns)"
   ]
  },
  {
   "cell_type": "markdown",
   "metadata": {},
   "source": [
    "Počet stĺpcov je oveľa väčší ako pri Personal_data, a to kvôli medicínskym údajom."
   ]
  },
  {
   "cell_type": "code",
   "execution_count": 44,
   "metadata": {},
   "outputs": [
    {
     "data": {
      "text/html": [
       "<div>\n",
       "<style scoped>\n",
       "    .dataframe tbody tr th:only-of-type {\n",
       "        vertical-align: middle;\n",
       "    }\n",
       "\n",
       "    .dataframe tbody tr th {\n",
       "        vertical-align: top;\n",
       "    }\n",
       "\n",
       "    .dataframe thead th {\n",
       "        text-align: right;\n",
       "    }\n",
       "</style>\n",
       "<table border=\"1\" class=\"dataframe\">\n",
       "  <thead>\n",
       "    <tr style=\"text-align: right;\">\n",
       "      <th></th>\n",
       "      <th>TT4</th>\n",
       "      <th>T4U</th>\n",
       "      <th>capital-loss</th>\n",
       "      <th>capital-gain</th>\n",
       "      <th>TSH</th>\n",
       "      <th>T3</th>\n",
       "      <th>fnlwgt</th>\n",
       "      <th>hours-per-week</th>\n",
       "      <th>education-num</th>\n",
       "    </tr>\n",
       "  </thead>\n",
       "  <tbody>\n",
       "    <tr>\n",
       "      <th>count</th>\n",
       "      <td>2128.000000</td>\n",
       "      <td>2038.000000</td>\n",
       "      <td>2277.000000</td>\n",
       "      <td>2.282000e+03</td>\n",
       "      <td>2048.000000</td>\n",
       "      <td>1805.000000</td>\n",
       "      <td>2278.000000</td>\n",
       "      <td>2275.000000</td>\n",
       "      <td>2048.000000</td>\n",
       "    </tr>\n",
       "    <tr>\n",
       "      <th>mean</th>\n",
       "      <td>109.487030</td>\n",
       "      <td>0.996749</td>\n",
       "      <td>72.166886</td>\n",
       "      <td>5.206411e+02</td>\n",
       "      <td>4.501296</td>\n",
       "      <td>2.025152</td>\n",
       "      <td>187211.198420</td>\n",
       "      <td>38.010549</td>\n",
       "      <td>10.041504</td>\n",
       "    </tr>\n",
       "    <tr>\n",
       "      <th>std</th>\n",
       "      <td>35.882326</td>\n",
       "      <td>0.192079</td>\n",
       "      <td>373.416778</td>\n",
       "      <td>5.963641e+04</td>\n",
       "      <td>20.248856</td>\n",
       "      <td>0.814956</td>\n",
       "      <td>107023.327923</td>\n",
       "      <td>11.842891</td>\n",
       "      <td>2.447641</td>\n",
       "    </tr>\n",
       "    <tr>\n",
       "      <th>min</th>\n",
       "      <td>2.000000</td>\n",
       "      <td>0.310000</td>\n",
       "      <td>0.000000</td>\n",
       "      <td>-1.502400e+06</td>\n",
       "      <td>0.005000</td>\n",
       "      <td>0.050000</td>\n",
       "      <td>19395.000000</td>\n",
       "      <td>1.000000</td>\n",
       "      <td>1.000000</td>\n",
       "    </tr>\n",
       "    <tr>\n",
       "      <th>25%</th>\n",
       "      <td>88.000000</td>\n",
       "      <td>0.880000</td>\n",
       "      <td>0.000000</td>\n",
       "      <td>0.000000e+00</td>\n",
       "      <td>0.447500</td>\n",
       "      <td>1.600000</td>\n",
       "      <td>116411.750000</td>\n",
       "      <td>35.000000</td>\n",
       "      <td>9.000000</td>\n",
       "    </tr>\n",
       "    <tr>\n",
       "      <th>50%</th>\n",
       "      <td>104.000000</td>\n",
       "      <td>0.980000</td>\n",
       "      <td>0.000000</td>\n",
       "      <td>0.000000e+00</td>\n",
       "      <td>1.400000</td>\n",
       "      <td>2.000000</td>\n",
       "      <td>177094.500000</td>\n",
       "      <td>40.000000</td>\n",
       "      <td>10.000000</td>\n",
       "    </tr>\n",
       "    <tr>\n",
       "      <th>75%</th>\n",
       "      <td>126.000000</td>\n",
       "      <td>1.080000</td>\n",
       "      <td>0.000000</td>\n",
       "      <td>0.000000e+00</td>\n",
       "      <td>2.600000</td>\n",
       "      <td>2.400000</td>\n",
       "      <td>232851.500000</td>\n",
       "      <td>40.000000</td>\n",
       "      <td>12.000000</td>\n",
       "    </tr>\n",
       "    <tr>\n",
       "      <th>max</th>\n",
       "      <td>430.000000</td>\n",
       "      <td>2.120000</td>\n",
       "      <td>3900.000000</td>\n",
       "      <td>1.355000e+06</td>\n",
       "      <td>478.000000</td>\n",
       "      <td>10.600000</td>\n",
       "      <td>913447.000000</td>\n",
       "      <td>99.000000</td>\n",
       "      <td>16.000000</td>\n",
       "    </tr>\n",
       "  </tbody>\n",
       "</table>\n",
       "</div>"
      ],
      "text/plain": [
       "               TT4          T4U  capital-loss  capital-gain          TSH  \\\n",
       "count  2128.000000  2038.000000   2277.000000  2.282000e+03  2048.000000   \n",
       "mean    109.487030     0.996749     72.166886  5.206411e+02     4.501296   \n",
       "std      35.882326     0.192079    373.416778  5.963641e+04    20.248856   \n",
       "min       2.000000     0.310000      0.000000 -1.502400e+06     0.005000   \n",
       "25%      88.000000     0.880000      0.000000  0.000000e+00     0.447500   \n",
       "50%     104.000000     0.980000      0.000000  0.000000e+00     1.400000   \n",
       "75%     126.000000     1.080000      0.000000  0.000000e+00     2.600000   \n",
       "max     430.000000     2.120000   3900.000000  1.355000e+06   478.000000   \n",
       "\n",
       "                T3         fnlwgt  hours-per-week  education-num  \n",
       "count  1805.000000    2278.000000     2275.000000    2048.000000  \n",
       "mean      2.025152  187211.198420       38.010549      10.041504  \n",
       "std       0.814956  107023.327923       11.842891       2.447641  \n",
       "min       0.050000   19395.000000        1.000000       1.000000  \n",
       "25%       1.600000  116411.750000       35.000000       9.000000  \n",
       "50%       2.000000  177094.500000       40.000000      10.000000  \n",
       "75%       2.400000  232851.500000       40.000000      12.000000  \n",
       "max      10.600000  913447.000000       99.000000      16.000000  "
      ]
     },
     "execution_count": 44,
     "metadata": {},
     "output_type": "execute_result"
    }
   ],
   "source": [
    "other_data.describe()"
   ]
  },
  {
   "cell_type": "markdown",
   "metadata": {},
   "source": [
    "V describe sme znázornili, okolo akých hodnôt sa prevažne pohybujú stĺpce ako TT4,T4U, TSH, hours per week, alebo capital Gain."
   ]
  },
  {
   "cell_type": "code",
   "execution_count": 45,
   "metadata": {},
   "outputs": [
    {
     "name": "stdout",
     "output_type": "stream",
     "text": [
      "<class 'pandas.core.frame.DataFrame'>\n",
      "RangeIndex: 2287 entries, 0 to 2286\n",
      "Data columns (total 33 columns):\n",
      "name                         2287 non-null object\n",
      "address                      2287 non-null object\n",
      "query hyperthyroid           2276 non-null object\n",
      "FTI measured                 2278 non-null object\n",
      "education                    2281 non-null object\n",
      "lithium                      2279 non-null object\n",
      "TT4                          2128 non-null float64\n",
      "T4U                          2038 non-null float64\n",
      "capital-loss                 2277 non-null float64\n",
      "capital-gain                 2282 non-null float64\n",
      "tumor                        2276 non-null object\n",
      "TSH                          2048 non-null float64\n",
      "T3                           1805 non-null float64\n",
      "fnlwgt                       2278 non-null float64\n",
      "hours-per-week               2275 non-null float64\n",
      "relationship                 2279 non-null object\n",
      "sick                         2275 non-null object\n",
      "workclass                    2276 non-null object\n",
      "TT4 measured                 2274 non-null object\n",
      "class                        2278 non-null object\n",
      "marital-status               2277 non-null object\n",
      "goitre                       2280 non-null object\n",
      "native-country               2275 non-null object\n",
      "hypopituitary                2282 non-null object\n",
      "medical_info                 2276 non-null object\n",
      "on antithyroid medication    2280 non-null object\n",
      "referral source              2281 non-null object\n",
      "education-num                2048 non-null float64\n",
      "occupation                   2274 non-null object\n",
      "TBG measured                 2282 non-null object\n",
      "TBG                          2271 non-null object\n",
      "race                         2279 non-null object\n",
      "FTI                          2280 non-null object\n",
      "dtypes: float64(9), object(24)\n",
      "memory usage: 589.7+ KB\n"
     ]
    }
   ],
   "source": [
    "other_data.info()"
   ]
  },
  {
   "cell_type": "markdown",
   "metadata": {},
   "source": [
    "Nie každý záznam má vyplnené všetky údaje bude potrebné spracovať jednotlivé stĺpce a doplniť ich."
   ]
  },
  {
   "cell_type": "code",
   "execution_count": 46,
   "metadata": {},
   "outputs": [
    {
     "data": {
      "text/plain": [
       "(array([ 0,  1,  2,  3,  4,  5,  6,  7,  8,  9, 10, 11, 12, 13, 14, 15, 16,\n",
       "        17, 18, 19, 20, 21, 22, 23]), <a list of 24 Text xticklabel objects>)"
      ]
     },
     "execution_count": 46,
     "metadata": {},
     "output_type": "execute_result"
    },
    {
     "data": {
      "image/png": "[encoded data removed]",
      "text/plain": [
       "<Figure size 432x288 with 1 Axes>"
      ]
     },
     "metadata": {},
     "output_type": "display_data"
    }
   ],
   "source": [
    "fig_dims = (3, 1)\n",
    "\n",
    "plt.subplot2grid(fig_dims, (1, 0))\n",
    "other_data['education'].value_counts().plot(kind='bar', \n",
    "                                    title='Type of Education')\n",
    "plt.xticks(rotation=90)"
   ]
  },
  {
   "cell_type": "markdown",
   "metadata": {},
   "source": [
    "V nasledujúcom stĺpcovom grafe demonštrujeme rôznorodosť dosiahnutého vzdelania u ľudí v datasete. Ako vidíme, najpočetnejším vzdelaním, aký ľudia v našom datasete dosiahli, je stredná škola."
   ]
  },
  {
   "cell_type": "code",
   "execution_count": 47,
   "metadata": {},
   "outputs": [
    {
     "data": {
      "text/plain": [
       "f      2135\n",
       "t       140\n",
       "f.8       1\n",
       "Name: query hyperthyroid, dtype: int64"
      ]
     },
     "execution_count": 47,
     "metadata": {},
     "output_type": "execute_result"
    }
   ],
   "source": [
    "other_data['query hyperthyroid'].value_counts()"
   ]
  },
  {
   "cell_type": "code",
   "execution_count": 48,
   "metadata": {},
   "outputs": [
    {
     "data": {
      "text/plain": [
       "t      2043\n",
       "f       234\n",
       "t.4       1\n",
       "Name: FTI measured, dtype: int64"
      ]
     },
     "execution_count": 48,
     "metadata": {},
     "output_type": "execute_result"
    }
   ],
   "source": [
    "other_data['FTI measured'].value_counts()"
   ]
  },
  {
   "cell_type": "code",
   "execution_count": 49,
   "metadata": {},
   "outputs": [
    {
     "data": {
      "text/plain": [
       "f      2267\n",
       "t        11\n",
       "f.9       1\n",
       "Name: lithium, dtype: int64"
      ]
     },
     "execution_count": 49,
     "metadata": {},
     "output_type": "execute_result"
    }
   ],
   "source": [
    "other_data['lithium'].value_counts()"
   ]
  },
  {
   "cell_type": "code",
   "execution_count": 50,
   "metadata": {},
   "outputs": [
    {
     "data": {
      "text/plain": [
       "f       2281\n",
       "f.12       1\n",
       "Name: hypopituitary, dtype: int64"
      ]
     },
     "execution_count": 50,
     "metadata": {},
     "output_type": "execute_result"
    }
   ],
   "source": [
    "other_data['hypopituitary'].value_counts()"
   ]
  },
  {
   "cell_type": "code",
   "execution_count": 51,
   "metadata": {},
   "outputs": [
    {
     "data": {
      "text/plain": [
       "f        2026\n",
       "F         113\n",
       "FALSE     113\n",
       "t          24\n",
       "TRUE        2\n",
       "T           1\n",
       "f.2         1\n",
       "Name: on antithyroid medication, dtype: int64"
      ]
     },
     "execution_count": 51,
     "metadata": {},
     "output_type": "execute_result"
    }
   ],
   "source": [
    "other_data['on antithyroid medication'].value_counts()"
   ]
  },
  {
   "cell_type": "code",
   "execution_count": 52,
   "metadata": {},
   "outputs": [
    {
     "data": {
      "text/plain": [
       "f       2281\n",
       "f.14       1\n",
       "Name: TBG measured, dtype: int64"
      ]
     },
     "execution_count": 52,
     "metadata": {},
     "output_type": "execute_result"
    }
   ],
   "source": [
    "other_data['TBG measured'].value_counts()"
   ]
  },
  {
   "cell_type": "markdown",
   "metadata": {},
   "source": [
    "V predchádzajúcich countoch a nasledujúcich grafoch poukazujeme na to, v akom pomere sú TRUE/FALSE stĺpce. V žiadnom zo stĺpcov nie je vybalancovaný počet true a false záznamov. Dokonca môžeme vidieť nekonzistentnosť dát a chybné údaje ako f.14, t.4 a podobne."
   ]
  },
  {
   "cell_type": "code",
   "execution_count": 53,
   "metadata": {
    "scrolled": true
   },
   "outputs": [
    {
     "data": {
      "image/png": "[encoded data removed]",
      "text/plain": [
       "<Figure size 432x288 with 6 Axes>"
      ]
     },
     "metadata": {},
     "output_type": "display_data"
    }
   ],
   "source": [
    "\n",
    "\n",
    "fig, axs = plt.subplots(1,6)\n",
    "other_data[(other_data['query hyperthyroid'] == 't') | (other_data['query hyperthyroid'] == 'f')]['query hyperthyroid'].value_counts().plot(ax=axs[0],kind='bar', \n",
    "                                    title='Query Hyperthyroid')\n",
    "\n",
    "other_data[(other_data['lithium'] == 't') | (other_data['lithium'] == 'f')]['lithium'].value_counts().plot(ax=axs[1],kind='bar', \n",
    "                                    title='Lithium')\n",
    "other_data[(other_data['hypopituitary'] == 't') | (other_data['hypopituitary'] == 'f')]['hypopituitary'].value_counts().plot(ax=axs[2],kind='bar', \n",
    "                                    title='Hypopituitary')\n",
    "other_data[(other_data['on antithyroid medication'] == 't') | (other_data['on antithyroid medication'] == 'f')]['on antithyroid medication'].value_counts().plot(ax=axs[3],kind='bar', \n",
    "                                    title='on antithyroid medication')\n",
    "other_data[(other_data['TBG measured'] == 't') | (other_data['TBG measured'] == 'f')]['TBG measured'].value_counts().plot(ax=axs[4],kind='bar', \n",
    "                                    title='TBG measured') \n",
    "other_data[(other_data['FTI measured'] == 't') | (other_data['FTI measured'] == 'f')]['FTI measured'].value_counts().plot(ax=axs[5],kind='bar', \n",
    "                                    title='FIT measured')\n",
    "plt.subplots_adjust(left=4, bottom=3, right=6, top=4, wspace=2, hspace=1)\n",
    "\n",
    "#there are more True/false collumns such as:\n",
    "# tumor, sick, tt4 masured, goitre, \n"
   ]
  },
  {
   "cell_type": "code",
   "execution_count": 54,
   "metadata": {},
   "outputs": [
    {
     "data": {
      "image/png": "[encoded data removed]",
      "text/plain": [
       "<Figure size 432x288 with 2 Axes>"
      ]
     },
     "metadata": {},
     "output_type": "display_data"
    }
   ],
   "source": [
    "fig, axs = plt.subplots(1,2)\n",
    "other_data.race.value_counts().plot(ax=axs[0],kind='pie', title='Races in dataset')\n",
    "other_data.occupation.value_counts().plot(ax=axs[1],kind='pie',title='All occupations')\n",
    "plt.subplots_adjust(left=0, bottom=0, right=3, top=1.5, wspace=1, hspace=0)\n",
    "#fix this plsss"
   ]
  },
  {
   "cell_type": "markdown",
   "metadata": {},
   "source": [
    "V nasledujúcich 2 grafov vidíme už spomenutú rôznorodosť záznamov (aj pri type zamestnania alebo rase)."
   ]
  },
  {
   "cell_type": "code",
   "execution_count": 55,
   "metadata": {
    "scrolled": true
   },
   "outputs": [
    {
     "data": {
      "text/plain": [
       " Not-in-family     754\n",
       " Husband           446\n",
       " Own-child         406\n",
       " Unmarried         384\n",
       " Wife              211\n",
       " Other-relative     78\n",
       "Name: relationship, dtype: int64"
      ]
     },
     "execution_count": 55,
     "metadata": {},
     "output_type": "execute_result"
    }
   ],
   "source": [
    "other_data[\"relationship\"].value_counts()"
   ]
  },
  {
   "cell_type": "code",
   "execution_count": 56,
   "metadata": {},
   "outputs": [
    {
     "data": {
      "image/png": "[encoded data removed]",
      "text/plain": [
       "<Figure size 432x288 with 1 Axes>"
      ]
     },
     "metadata": {},
     "output_type": "display_data"
    }
   ],
   "source": [
    "male = other_data[~other_data['hours-per-week'].isnull()]['hours-per-week']\n",
    "\n",
    "fig1, ax1 = plt.subplots()\n",
    "ax1.set_title('Box plot of Hours per week')\n",
    "ax1.boxplot(male)\n",
    "plt.show()"
   ]
  },
  {
   "cell_type": "markdown",
   "metadata": {},
   "source": [
    "Pomocou boxplotu sme znázornili distribúciu dát v stĺpci hours-per-week a vidíme že za predpokladu že tieto hodnoty znamenajú počet hodín u doktora za týždeň priemer sa pohybuje okolo 40 hodín týždenne."
   ]
  },
  {
   "cell_type": "markdown",
   "metadata": {},
   "source": [
    "## Hypotézy"
   ]
  },
  {
   "cell_type": "markdown",
   "metadata": {},
   "source": [
    "### 1. Ak je človek chorý tak ma vyššiu TT4"
   ]
  },
  {
   "cell_type": "code",
   "execution_count": 57,
   "metadata": {},
   "outputs": [
    {
     "data": {
      "text/plain": [
       "<matplotlib.axes._subplots.AxesSubplot at 0x1d63099f978>"
      ]
     },
     "execution_count": 57,
     "metadata": {},
     "output_type": "execute_result"
    },
    {
     "data": {
      "image/png": "[encoded data removed]",
      "text/plain": [
       "<Figure size 432x288 with 1 Axes>"
      ]
     },
     "metadata": {},
     "output_type": "display_data"
    }
   ],
   "source": [
    "tt4_sick = other_data[other_data['sick']=='t']['TT4']\n",
    "tt4_sick = tt4_sick.astype(str).astype(float)\n",
    "tt4_sick = tt4_sick[~tt4_sick.isnull()]\n",
    "tt4_not_sick = other_data[other_data['sick']=='f']['TT4']\n",
    "tt4_not_sick = tt4_not_sick.astype(str).astype(float)\n",
    "tt4_not_sick = tt4_not_sick[~tt4_not_sick.isnull()]\n",
    "sick = other_data[(other_data['sick']=='t') | (other_data['sick']=='f')]['sick']\n",
    "df = pd.DataFrame({'sick':sick, 'tt4':other_data['TT4']})\n",
    "sns.boxplot('sick','tt4',data = df)"
   ]
  },
  {
   "cell_type": "markdown",
   "metadata": {},
   "source": [
    "V danom boxplote ukazujeme, aké TT4 majú záznamy ľudí, ktorý sú buď zdravý, alebo chorý. Ako môžeme vidieť, hodnoty TT4, pokiaľ je človek chorý, sú vyššie a viac sa vychylujú"
   ]
  },
  {
   "cell_type": "markdown",
   "metadata": {},
   "source": [
    "### Predpoklady t-testu\n",
    "1.Vizualizácia pomocou histogramu"
   ]
  },
  {
   "cell_type": "code",
   "execution_count": 58,
   "metadata": {},
   "outputs": [
    {
     "name": "stderr",
     "output_type": "stream",
     "text": [
      "D:\\Anaconda\\lib\\site-packages\\matplotlib\\axes\\_axes.py:6462: UserWarning: The 'normed' kwarg is deprecated, and has been replaced by the 'density' kwarg.\n",
      "  warnings.warn(\"The 'normed' kwarg is deprecated, and has been \"\n"
     ]
    },
    {
     "data": {
      "text/plain": [
       "<matplotlib.axes._subplots.AxesSubplot at 0x1d63097cdd8>"
      ]
     },
     "execution_count": 58,
     "metadata": {},
     "output_type": "execute_result"
    },
    {
     "data": {
      "image/png": "[encoded data removed]",
      "text/plain": [
       "<Figure size 432x288 with 1 Axes>"
      ]
     },
     "metadata": {},
     "output_type": "display_data"
    }
   ],
   "source": [
    "sns.distplot(tt4_sick,bins=5)"
   ]
  },
  {
   "cell_type": "markdown",
   "metadata": {},
   "source": []
  },
  {
   "cell_type": "code",
   "execution_count": 59,
   "metadata": {
    "scrolled": false
   },
   "outputs": [
    {
     "name": "stderr",
     "output_type": "stream",
     "text": [
      "D:\\Anaconda\\lib\\site-packages\\matplotlib\\axes\\_axes.py:6462: UserWarning: The 'normed' kwarg is deprecated, and has been replaced by the 'density' kwarg.\n",
      "  warnings.warn(\"The 'normed' kwarg is deprecated, and has been \"\n"
     ]
    },
    {
     "data": {
      "text/plain": [
       "<matplotlib.axes._subplots.AxesSubplot at 0x1d630985978>"
      ]
     },
     "execution_count": 59,
     "metadata": {},
     "output_type": "execute_result"
    },
    {
     "data": {
      "image/png": "[encoded data removed]",
      "text/plain": [
       "<Figure size 432x288 with 1 Axes>"
      ]
     },
     "metadata": {},
     "output_type": "display_data"
    }
   ],
   "source": [
    "sns.distplot(tt4_not_sick,bins=5)"
   ]
  },
  {
   "cell_type": "code",
   "execution_count": 60,
   "metadata": {},
   "outputs": [
    {
     "data": {
      "text/plain": [
       "<matplotlib.axes._subplots.AxesSubplot at 0x1d630ac80b8>"
      ]
     },
     "execution_count": 60,
     "metadata": {},
     "output_type": "execute_result"
    },
    {
     "data": {
      "image/png": "[encoded data removed]",
      "text/plain": [
       "<Figure size 432x288 with 1 Axes>"
      ]
     },
     "metadata": {},
     "output_type": "display_data"
    }
   ],
   "source": [
    "sns.barplot(x='sick', y='TT4', data=other_data[(other_data['sick'] == 't') | (other_data['sick'] == 'f')], \n",
    "            capsize=0.1, errwidth=2, palette=sns.color_palette(\"Blues\"))"
   ]
  },
  {
   "cell_type": "markdown",
   "metadata": {},
   "source": [
    "Tu vidíme, že naše tvrdenie je vyvrátené."
   ]
  },
  {
   "cell_type": "markdown",
   "metadata": {},
   "source": [
    "2.Shapiro-Wilkov test"
   ]
  },
  {
   "cell_type": "code",
   "execution_count": 61,
   "metadata": {},
   "outputs": [
    {
     "data": {
      "text/plain": [
       "(0.8600901365280151, 2.751570207237819e-07)"
      ]
     },
     "execution_count": 61,
     "metadata": {},
     "output_type": "execute_result"
    }
   ],
   "source": [
    "stats.shapiro(tt4_sick)"
   ]
  },
  {
   "cell_type": "code",
   "execution_count": 62,
   "metadata": {
    "scrolled": true
   },
   "outputs": [
    {
     "data": {
      "text/plain": [
       "(0.9141352772712708, 1.8246177597097092e-32)"
      ]
     },
     "execution_count": 62,
     "metadata": {},
     "output_type": "execute_result"
    }
   ],
   "source": [
    "stats.shapiro(tt4_not_sick)"
   ]
  },
  {
   "cell_type": "markdown",
   "metadata": {},
   "source": [
    "V oboch dátových sadách je hodnota p < 0.05, a teda nemôžeme použiť parametrizovaný test T-test, ale musíme použiť neparametrizovaný, čiže Mann Whitney U-Test"
   ]
  },
  {
   "cell_type": "code",
   "execution_count": 63,
   "metadata": {},
   "outputs": [
    {
     "data": {
      "text/plain": [
       "MannwhitneyuResult(statistic=72239.0, pvalue=0.020185901400675346)"
      ]
     },
     "execution_count": 63,
     "metadata": {},
     "output_type": "execute_result"
    }
   ],
   "source": [
    "stats.mannwhitneyu(tt4_sick, tt4_not_sick)"
   ]
  },
  {
   "cell_type": "markdown",
   "metadata": {},
   "source": [
    "p > 0,05 to znamená že nemôžeme zamietnuť nulovú hypotézu."
   ]
  },
  {
   "cell_type": "markdown",
   "metadata": {},
   "source": [
    "### 2.  Ak má hypertyreózu (nadmerná produkcia hormónov štítnej žlazy) tak má vyšiu TT4 "
   ]
  },
  {
   "cell_type": "code",
   "execution_count": 64,
   "metadata": {
    "scrolled": true
   },
   "outputs": [
    {
     "data": {
      "text/plain": [
       "<matplotlib.axes._subplots.AxesSubplot at 0x1d62f4b18d0>"
      ]
     },
     "execution_count": 64,
     "metadata": {},
     "output_type": "execute_result"
    },
    {
     "data": {
      "image/png": "[encoded data removed]",
      "text/plain": [
       "<Figure size 432x288 with 1 Axes>"
      ]
     },
     "metadata": {},
     "output_type": "display_data"
    }
   ],
   "source": [
    "has_query_hyperthyroid = other_data[other_data['query hyperthyroid'] == 't']['TT4']\n",
    "has_query_hyperthyroid = has_query_hyperthyroid[~has_query_hyperthyroid.isnull()]\n",
    "no_query_hyperthyroid = other_data[other_data['query hyperthyroid'] == 'f']['TT4']\n",
    "no_query_hyperthyroid = no_query_hyperthyroid[~no_query_hyperthyroid.isnull()]\n",
    "query_hyperthyroid = other_data[(other_data['query hyperthyroid'] == 't') | (other_data['query hyperthyroid'] == 'f')]['query hyperthyroid']\n",
    "df = pd.DataFrame({'query hyperthyroid':query_hyperthyroid, 'TT4':other_data['TT4']})\n",
    "sns.boxplot('query hyperthyroid','TT4',data = df)\n"
   ]
  },
  {
   "cell_type": "markdown",
   "metadata": {},
   "source": [
    "V tomto boxplote vidíme, že pokiaľ majú ľudia zvýšenú produkciu štítnej žľazy, tak majú obvykle vyššie hodnoty TT4"
   ]
  },
  {
   "cell_type": "code",
   "execution_count": 65,
   "metadata": {},
   "outputs": [
    {
     "name": "stderr",
     "output_type": "stream",
     "text": [
      "D:\\Anaconda\\lib\\site-packages\\matplotlib\\axes\\_axes.py:6462: UserWarning: The 'normed' kwarg is deprecated, and has been replaced by the 'density' kwarg.\n",
      "  warnings.warn(\"The 'normed' kwarg is deprecated, and has been \"\n"
     ]
    },
    {
     "data": {
      "text/plain": [
       "<matplotlib.axes._subplots.AxesSubplot at 0x1d630a61d30>"
      ]
     },
     "execution_count": 65,
     "metadata": {},
     "output_type": "execute_result"
    },
    {
     "data": {
      "image/png": "[encoded data removed]",
      "text/plain": [
       "<Figure size 432x288 with 1 Axes>"
      ]
     },
     "metadata": {},
     "output_type": "display_data"
    }
   ],
   "source": [
    "sns.distplot(has_query_hyperthyroid,bins=5)"
   ]
  },
  {
   "cell_type": "code",
   "execution_count": 66,
   "metadata": {},
   "outputs": [
    {
     "name": "stderr",
     "output_type": "stream",
     "text": [
      "D:\\Anaconda\\lib\\site-packages\\matplotlib\\axes\\_axes.py:6462: UserWarning: The 'normed' kwarg is deprecated, and has been replaced by the 'density' kwarg.\n",
      "  warnings.warn(\"The 'normed' kwarg is deprecated, and has been \"\n"
     ]
    },
    {
     "data": {
      "text/plain": [
       "<matplotlib.axes._subplots.AxesSubplot at 0x1d62e9f9278>"
      ]
     },
     "execution_count": 66,
     "metadata": {},
     "output_type": "execute_result"
    },
    {
     "data": {
      "image/png": "[encoded data removed]",
      "text/plain": [
       "<Figure size 432x288 with 1 Axes>"
      ]
     },
     "metadata": {},
     "output_type": "display_data"
    }
   ],
   "source": [
    "sns.distplot(no_query_hyperthyroid,bins=5)"
   ]
  },
  {
   "cell_type": "code",
   "execution_count": 67,
   "metadata": {},
   "outputs": [
    {
     "data": {
      "text/plain": [
       "<matplotlib.axes._subplots.AxesSubplot at 0x1d62edbab38>"
      ]
     },
     "execution_count": 67,
     "metadata": {},
     "output_type": "execute_result"
    },
    {
     "data": {
      "image/png": "[encoded data removed]",
      "text/plain": [
       "<Figure size 432x288 with 1 Axes>"
      ]
     },
     "metadata": {},
     "output_type": "display_data"
    }
   ],
   "source": [
    "sns.barplot(x='query hyperthyroid', y='TT4', data=other_data[(other_data['query hyperthyroid'] == 't') | (other_data['query hyperthyroid'] == 'f')], \n",
    "            capsize=0.1, errwidth=2, palette=sns.color_palette(\"Blues\"))"
   ]
  },
  {
   "cell_type": "markdown",
   "metadata": {},
   "source": [
    "V tomto grafe vidíme, že hodnoty - pokiaľ má človek hypertiriózu dosahujú vyššie čísla TT4 (čo sme aj tvrdili)."
   ]
  },
  {
   "cell_type": "code",
   "execution_count": 68,
   "metadata": {},
   "outputs": [
    {
     "data": {
      "text/plain": [
       "(0.813005805015564, 3.709164572707202e-11)"
      ]
     },
     "execution_count": 68,
     "metadata": {},
     "output_type": "execute_result"
    }
   ],
   "source": [
    "stats.shapiro(has_query_hyperthyroid)"
   ]
  },
  {
   "cell_type": "code",
   "execution_count": 69,
   "metadata": {},
   "outputs": [
    {
     "data": {
      "text/plain": [
       "(0.9445138573646545, 9.372779971161498e-27)"
      ]
     },
     "execution_count": 69,
     "metadata": {},
     "output_type": "execute_result"
    }
   ],
   "source": [
    "stats.shapiro(no_query_hyperthyroid)"
   ]
  },
  {
   "cell_type": "code",
   "execution_count": 70,
   "metadata": {},
   "outputs": [
    {
     "data": {
      "text/plain": [
       "MannwhitneyuResult(statistic=88950.5, pvalue=2.9238787446533285e-07)"
      ]
     },
     "execution_count": 70,
     "metadata": {},
     "output_type": "execute_result"
    }
   ],
   "source": [
    "stats.mannwhitneyu(has_query_hyperthyroid,no_query_hyperthyroid)"
   ]
  }
 ],
 "metadata": {
  "kernelspec": {
   "display_name": "Python 3",
   "language": "python",
   "name": "python3"
  },
  "language_info": {
   "codemirror_mode": {
    "name": "ipython",
    "version": 3
   },
   "file_extension": ".py",
   "mimetype": "text/x-python",
   "name": "python",
   "nbconvert_exporter": "python",
   "pygments_lexer": "ipython3",
   "version": "3.6.5"
  }
 },
 "nbformat": 4,
 "nbformat_minor": 2
}
