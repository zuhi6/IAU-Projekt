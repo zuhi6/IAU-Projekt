{
 "cells": [
  {
   "cell_type": "code",
   "execution_count": 157,
   "metadata": {},
   "outputs": [],
   "source": [
    "import pandas as pd\n",
    "import numpy as np\n",
    "import matplotlib.pyplot as plt\n",
    "import seaborn as sns\n",
    "from random import randint\n",
    "import math"
   ]
  },
  {
   "cell_type": "code",
   "execution_count": 161,
   "metadata": {},
   "outputs": [
    {
     "ename": "TypeError",
     "evalue": "must be real number, not str",
     "output_type": "error",
     "traceback": [
      "\u001b[0;31m---------------------------------------------------------------------------\u001b[0m",
      "\u001b[0;31mTypeError\u001b[0m                                 Traceback (most recent call last)",
      "\u001b[0;32m<ipython-input-161-c52b45d332e1>\u001b[0m in \u001b[0;36m<module>\u001b[0;34m()\u001b[0m\n\u001b[1;32m     75\u001b[0m         \u001b[0mcount\u001b[0m \u001b[0;34m+=\u001b[0m \u001b[0;36m1\u001b[0m\u001b[0;34m\u001b[0m\u001b[0m\n\u001b[1;32m     76\u001b[0m     \u001b[0;32melse\u001b[0m\u001b[0;34m:\u001b[0m\u001b[0;34m\u001b[0m\u001b[0m\n\u001b[0;32m---> 77\u001b[0;31m         \u001b[0mgetUniqueRow\u001b[0m\u001b[0;34m(\u001b[0m\u001b[0mindex\u001b[0m\u001b[0;34m-\u001b[0m\u001b[0mcount\u001b[0m\u001b[0;34m,\u001b[0m\u001b[0mindex\u001b[0m\u001b[0;34m)\u001b[0m\u001b[0;34m\u001b[0m\u001b[0m\n\u001b[0m\u001b[1;32m     78\u001b[0m         \u001b[0mlastDuplicate\u001b[0m \u001b[0;34m=\u001b[0m \u001b[0mname\u001b[0m\u001b[0;34m\u001b[0m\u001b[0m\n\u001b[1;32m     79\u001b[0m         \u001b[0mcount\u001b[0m \u001b[0;34m=\u001b[0m \u001b[0;36m1\u001b[0m\u001b[0;34m\u001b[0m\u001b[0m\n",
      "\u001b[0;32m<ipython-input-161-c52b45d332e1>\u001b[0m in \u001b[0;36mgetUniqueRow\u001b[0;34m(startIndex, endIndex)\u001b[0m\n\u001b[1;32m     61\u001b[0m         \u001b[0;32melif\u001b[0m\u001b[0;34m(\u001b[0m\u001b[0mcheckQuestionMark\u001b[0m\u001b[0;34m(\u001b[0m\u001b[0mtemp\u001b[0m\u001b[0;34m)\u001b[0m\u001b[0;34m)\u001b[0m\u001b[0;34m:\u001b[0m\u001b[0;34m\u001b[0m\u001b[0m\n\u001b[1;32m     62\u001b[0m             \u001b[0mrow_dict\u001b[0m\u001b[0;34m[\u001b[0m\u001b[0mcolumn\u001b[0m\u001b[0;34m]\u001b[0m \u001b[0;34m=\u001b[0m \u001b[0;34m'?'\u001b[0m\u001b[0;34m\u001b[0m\u001b[0m\n\u001b[0;32m---> 63\u001b[0;31m         \u001b[0;32melif\u001b[0m\u001b[0;34m(\u001b[0m\u001b[0mnanOrQuestionMark\u001b[0m\u001b[0;34m(\u001b[0m\u001b[0mtemp\u001b[0m\u001b[0;34m)\u001b[0m\u001b[0;34m)\u001b[0m\u001b[0;34m:\u001b[0m\u001b[0;34m\u001b[0m\u001b[0m\n\u001b[0m\u001b[1;32m     64\u001b[0m             \u001b[0mrow_dict\u001b[0m\u001b[0;34m[\u001b[0m\u001b[0mcolumn\u001b[0m\u001b[0;34m]\u001b[0m \u001b[0;34m=\u001b[0m \u001b[0;34m'?'\u001b[0m\u001b[0;34m\u001b[0m\u001b[0m\n\u001b[1;32m     65\u001b[0m         \u001b[0;32melse\u001b[0m\u001b[0;34m:\u001b[0m\u001b[0;34m\u001b[0m\u001b[0m\n",
      "\u001b[0;32m<ipython-input-161-c52b45d332e1>\u001b[0m in \u001b[0;36mnanOrQuestionMark\u001b[0;34m(arr)\u001b[0m\n\u001b[1;32m     37\u001b[0m \u001b[0;32mdef\u001b[0m \u001b[0mnanOrQuestionMark\u001b[0m\u001b[0;34m(\u001b[0m\u001b[0marr\u001b[0m\u001b[0;34m)\u001b[0m\u001b[0;34m:\u001b[0m\u001b[0;34m\u001b[0m\u001b[0m\n\u001b[1;32m     38\u001b[0m     \u001b[0;32mfor\u001b[0m \u001b[0mitem\u001b[0m \u001b[0;32min\u001b[0m \u001b[0marr\u001b[0m\u001b[0;34m:\u001b[0m\u001b[0;34m\u001b[0m\u001b[0m\n\u001b[0;32m---> 39\u001b[0;31m         \u001b[0;32mif\u001b[0m\u001b[0;34m(\u001b[0m\u001b[0mitem\u001b[0m \u001b[0;32mis\u001b[0m \u001b[0;32mnot\u001b[0m \u001b[0;34m'?'\u001b[0m \u001b[0;32mand\u001b[0m \u001b[0;32mnot\u001b[0m \u001b[0mmath\u001b[0m\u001b[0;34m.\u001b[0m\u001b[0misnan\u001b[0m\u001b[0;34m(\u001b[0m\u001b[0mitem\u001b[0m\u001b[0;34m)\u001b[0m\u001b[0;34m)\u001b[0m\u001b[0;34m:\u001b[0m\u001b[0;34m\u001b[0m\u001b[0m\n\u001b[0m\u001b[1;32m     40\u001b[0m             \u001b[0;32mreturn\u001b[0m \u001b[0;32mFalse\u001b[0m\u001b[0;34m\u001b[0m\u001b[0m\n\u001b[1;32m     41\u001b[0m     \u001b[0;32mreturn\u001b[0m \u001b[0;32mTrue\u001b[0m\u001b[0;34m\u001b[0m\u001b[0m\n",
      "\u001b[0;31mTypeError\u001b[0m: must be real number, not str"
     ]
    }
   ],
   "source": [
    "personal_data = pd.read_csv('./data/personal_train.csv')\n",
    "personal_data = personal_data.drop(['Unnamed: 0'], axis=1)\n",
    "other_data = pd.read_csv('./data/other_train.csv')\n",
    "other_data = other_data.drop(['Unnamed: 0'], axis=1)\n",
    "\n",
    "merged = pd.merge(personal_data,other_data,on=[\"name\",\"address\"])\n",
    "duplicated = merged.duplicated(subset=[\"name\",\"address\"],keep=False)\n",
    "duplicates = pd.DataFrame(columns=merged.columns)\n",
    "indexes_to_drop = []\n",
    "\n",
    "for index, row in merged.iterrows():\n",
    "    if(duplicated[index]):\n",
    "        duplicates = duplicates.append(merged.iloc[index],ignore_index=True)\n",
    "        indexes_to_drop.append(index)\n",
    "\n",
    "duplicates.sort_values([\"name\",\"address\"])\n",
    "\n",
    "\n",
    "for index in indexes_to_drop:\n",
    "    merged = merged.drop(merged.index[index])\n",
    "    \n",
    "lastDuplicate = duplicates.iloc[0][\"name\"]\n",
    "columns = duplicates.columns.values\n",
    "\n",
    "def checkNaN(arr):\n",
    "    for item in arr:\n",
    "        if(type(item) is not float or ~np.isnan(item)):\n",
    "            return False\n",
    "    return True\n",
    "\n",
    "def checkQuestionMark(arr):\n",
    "    for item in arr:\n",
    "        if(item is not '?'):\n",
    "            return False\n",
    "    return True\n",
    "\n",
    "def nanOrQuestionMark(arr):\n",
    "    for item in arr:\n",
    "        if(item is not '?' and not math.isnan(item)):\n",
    "            return False\n",
    "    return True\n",
    "\n",
    "def filter_nan_question_mark(arr):\n",
    "    result = []\n",
    "    for item in arr:\n",
    "        if(item is not '?' or (type(item) is not float or not math.isnan(item))):\n",
    "            result.append(item)\n",
    "    print(result)\n",
    "    return result        \n",
    "\n",
    "def getUniqueRow(startIndex,endIndex):\n",
    "    row_dict = {}\n",
    "\n",
    "    for column in duplicates.columns: \n",
    "        temp = []\n",
    "        for index in range(startIndex,endIndex):\n",
    "            temp.append(duplicates.iloc[index][column])\n",
    "         \n",
    "        if(checkNaN(temp)):\n",
    "            row_dict[column] = np.nan\n",
    "        elif(checkQuestionMark(temp)):\n",
    "            row_dict[column] = '?'\n",
    "        elif(nanOrQuestionMark(temp)):\n",
    "            row_dict[column] = '?'\n",
    "        else:\n",
    "            temp = filter_nan_question_mark(temp)\n",
    "        print(temp)\n",
    "        print(row_dict)\n",
    "        \n",
    "count = 0\n",
    "for index,row in duplicates.iterrows():\n",
    "    entry = duplicates.iloc[index]\n",
    "    name = entry[\"name\"]\n",
    "    if(name == lastDuplicate):\n",
    "        count += 1\n",
    "    else:\n",
    "        getUniqueRow(index-count,index)\n",
    "        lastDuplicate = name\n",
    "        count = 1\n",
    "\n",
    "        "
   ]
  },
  {
   "cell_type": "code",
   "execution_count": null,
   "metadata": {},
   "outputs": [],
   "source": []
  }
 ],
 "metadata": {
  "kernelspec": {
   "display_name": "Python 3",
   "language": "python",
   "name": "python3"
  },
  "language_info": {
   "codemirror_mode": {
    "name": "ipython",
    "version": 3
   },
   "file_extension": ".py",
   "mimetype": "text/x-python",
   "name": "python",
   "nbconvert_exporter": "python",
   "pygments_lexer": "ipython3",
   "version": "3.7.0"
  }
 },
 "nbformat": 4,
 "nbformat_minor": 2
}
